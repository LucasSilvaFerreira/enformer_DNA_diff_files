{
 "cells": [
  {
   "cell_type": "code",
   "execution_count": 1,
   "metadata": {},
   "outputs": [],
   "source": [
    "def center_region(chr,s,e, add_interval):\n",
    "  center = s + ((e-s)/2)\n",
    "  return  '_'.join([str(x) for x in [chr, int(center - add_interval) , int(center + add_interval)]])\n",
    "\n",
    "\n",
    "\n",
    "def job_generate_execute(job_n, split_data=20, seq_amount_demo=5, demo='True', just_generated='False', save_interval=10, skip_generated='False', element='', tss='', gene_name='' , dir_write_job='', partition='Long', custom_master_table=None, custom_notebook=None):\n",
    "    job_n = str(job_n)\n",
    "    generate_job_execute = f'''#!/bin/bash\n",
    "#SBATCH --partition={partition}\n",
    "#SBATCH --job-name=slurm-single-job\n",
    "#SBATCH --output=log_papermill_job_n{job_n}.log\n",
    "#SBATCH --ntasks=1\n",
    "#SBATCH --gpus=1\n",
    "#SBATCH --mem-per-cpu=80G\n",
    "\n",
    "# Define the Image to run\n",
    "export KUBE_IMAGE=erisxdl.partners.org/mgh-pinello-g/enformerops:latest\n",
    "\n",
    "\n",
    "# Define the Script to run\n",
    "## NOTE: This must be in your home directory\n",
    "export KUBE_SCRIPT=\"{dir_write_job}paper{job_n}.sh\"\n",
    "export KUBE_DATA_VOLUME=/data/pinello/  \n",
    "\n",
    "# Invoke the Job\n",
    "srun /data/erisxdl/kube-slurm/wrappers/kube-slurm-custom-image-job.sh\n",
    "    '''\n",
    "    #write the generate_job_execute to a file\n",
    "    use_f = f'{dir_write_job}/generate_job_execute_n{job_n}.sh'\n",
    "    with open(use_f, 'w') as f:\n",
    "        f.write(generate_job_execute)\n",
    "    \n",
    "    notebook = '/enformer.ipynb'\n",
    "    if custom_notebook:\n",
    "        notebook = custom_notebook\n",
    "\n",
    "        paper_job = f'''echo 'where im i'\n",
    "    pwd\n",
    "    echo 'executing'\n",
    "\n",
    "    echo \"--------------------------\"\n",
    "    papermill {notebook} {dir_write_job}{job_n}_out.ipynb -p SLICE {job_n} -p SPLIT_LEN {split_data} -p OUTPUT_PATH {dir_write_job} -p DEMO_SEQ {seq_amount_demo} -p DEMO {demo} -p JUST_GENERATED {just_generated} -p SAVE_INTERVAL {save_interval} -p SKIP_GENERATED {skip_generated}  -p ENHANCER_REGION  {element} -p GENE_REGION  {tss}   -p GENE_NAME   {gene_name} -p CUSTOM_MASTER_TABLE {custom_master_table}\n",
    "\n",
    "\n",
    "        '''\n",
    "        #write the paper_job to a file\n",
    "        f_change = f'{dir_write_job}/paper{job_n}.sh'\n",
    "        with open(f_change, 'w') as f:\n",
    "            f.write(paper_job)\n",
    "        \n",
    "        !chmod 777 $f_change\n",
    "    return use_f"
   ]
  },
  {
   "cell_type": "code",
   "execution_count": null,
   "metadata": {},
   "outputs": [],
   "source": []
  },
  {
   "cell_type": "code",
   "execution_count": 18,
   "metadata": {},
   "outputs": [
    {
     "name": "stdout",
     "output_type": "stream",
     "text": [
      "chr17_65563585_65563785\n",
      "chr17_65560647_65562647\n",
      "mkdir: cannot create directory ‘/PHShome/lf588/enformerOPS/axin2_debug_2/’: File exists\n"
     ]
    },
    {
     "data": {
      "text/plain": [
       "'cd /PHShome/lf588/enformerOPS/axin2_debug_2/ ;sbatch /PHShome/lf588/enformerOPS/axin2_debug_2/generate_job_execute_n0.sh'"
      ]
     },
     "execution_count": 18,
     "metadata": {},
     "output_type": "execute_result"
    }
   ],
   "source": [
    "#AXIN2\n",
    "# #partition Short/Long\n",
    "\n",
    "element_center = center_region('chr17', 65563685,  65563686, 100)\n",
    "print (element_center)\n",
    "tss_center = center_region('chr17', 65561647, 65561648, 1000)\n",
    "print (tss_center)\n",
    "dir_in = '/PHShome/lf588/enformerOPS/axin2_extended_controls/'\n",
    "!mkdir $dir_in\n",
    "j_List = []\n",
    "   # use the backslash in the end\n",
    "split_data_number=8\n",
    "for r in range(0,split_data_number):\n",
    "    j_List.append(job_generate_execute(str(r),\n",
    "                                       split_data_number, \n",
    "                                       partition='Medium', \n",
    "                                       demo='False',\n",
    "                                       seq_amount_demo=10,\n",
    "                                       just_generated='True',\n",
    "                                        save_interval=500,\n",
    "                                        skip_generated='False',\n",
    "                                        element=element_center,\n",
    "                                        tss=tss_center,\n",
    "                                        gene_name='GATA1_teste', #gene_name not working ; ignore for now\n",
    "                                        dir_write_job=dir_in,\n",
    "                                        custom_master_table='enformerOPS/notebook_adding_features/EXPANDED_AXIN2_GM_MASTER_DNA_DIFFUSION_ALL_SEQS.txt',\n",
    "                                         custom_notebook='enformerOPS/notebook_adding_features/axin2_enformer_V18_GENERAL_tss.ipynb' )   )\n",
    "\n",
    "\n",
    "f'cd {dir_in} ;'  + '; '.join(['sbatch '+ s for s in j_List]) .replace('//', '/')\n",
    "\n",
    "\n",
    "#partition Short/Long"
   ]
  },
  {
   "cell_type": "code",
   "execution_count": 20,
   "metadata": {},
   "outputs": [
    {
     "name": "stdout",
     "output_type": "stream",
     "text": [
      "chrX_48782929_48783129\n",
      "chrX_48785536_48787536\n",
      "mkdir: cannot create directory ‘/PHShome/lf588/enformerOPS/positive_and_negative_controls_original_id_fix_4k_encode_intersection_gm_03/’: File exists\n"
     ]
    },
    {
     "data": {
      "text/plain": [
       "'cd /PHShome/lf588/enformerOPS/positive_and_negative_controls_original_id_fix_4k_encode_intersection_gm_03/ ;sbatch /PHShome/lf588/enformerOPS/positive_and_negative_controls_original_id_fix_4k_encode_intersection_gm_03/generate_job_execute_n0.sh; sbatch /PHShome/lf588/enformerOPS/positive_and_negative_controls_original_id_fix_4k_encode_intersection_gm_03/generate_job_execute_n1.sh; sbatch /PHShome/lf588/enformerOPS/positive_and_negative_controls_original_id_fix_4k_encode_intersection_gm_03/generate_job_execute_n2.sh; sbatch /PHShome/lf588/enformerOPS/positive_and_negative_controls_original_id_fix_4k_encode_intersection_gm_03/generate_job_execute_n3.sh; sbatch /PHShome/lf588/enformerOPS/positive_and_negative_controls_original_id_fix_4k_encode_intersection_gm_03/generate_job_execute_n4.sh; sbatch /PHShome/lf588/enformerOPS/positive_and_negative_controls_original_id_fix_4k_encode_intersection_gm_03/generate_job_execute_n5.sh; sbatch /PHShome/lf588/enformerOPS/positive_and_negative_controls_original_id_fix_4k_encode_intersection_gm_03/generate_job_execute_n6.sh; sbatch /PHShome/lf588/enformerOPS/positive_and_negative_controls_original_id_fix_4k_encode_intersection_gm_03/generate_job_execute_n7.sh; sbatch /PHShome/lf588/enformerOPS/positive_and_negative_controls_original_id_fix_4k_encode_intersection_gm_03/generate_job_execute_n8.sh; sbatch /PHShome/lf588/enformerOPS/positive_and_negative_controls_original_id_fix_4k_encode_intersection_gm_03/generate_job_execute_n9.sh; sbatch /PHShome/lf588/enformerOPS/positive_and_negative_controls_original_id_fix_4k_encode_intersection_gm_03/generate_job_execute_n10.sh; sbatch /PHShome/lf588/enformerOPS/positive_and_negative_controls_original_id_fix_4k_encode_intersection_gm_03/generate_job_execute_n11.sh'"
      ]
     },
     "execution_count": 20,
     "metadata": {},
     "output_type": "execute_result"
    }
   ],
   "source": [
    "# #gata1\n",
    "# # j_List = []\n",
    "# # dir_in = '/PHShome/lf588/enformerOPS/general_test/'   # use the backslash in the end\n",
    "# # split_data_number=4\n",
    "# # for r in range(0,split_data_number):\n",
    "# #     j_List.append(job_generate_execute(str(r),\n",
    "# #                                        split_data_number, \n",
    "# #                                        partition='Short', \n",
    "# #                                        demo='True',\n",
    "# #                                        seq_amount_demo=5,\n",
    "# #                                        just_generated='False',\n",
    "# #                                         save_interval=1000,\n",
    "# #                                         skip_generated='False',\n",
    "# #                                         element='chrX_48782929_48783129',\n",
    "# #                                         tss='chrX_48785536_48787536',\n",
    "# #                                         gene_name='GATA1_teste', \n",
    "# #                                         dir_write_job=dir_in )   )\n",
    "\n",
    "\n",
    "# # f'cd {dir_in} ;'  + '; '.join(['sbatch '+ s for s in j_List]) .replace('//', '/')\n",
    "\n",
    "\n",
    "# # #partition Short/Long\n",
    "\n",
    "# element_center = 'chrX_48782929_48783129'\n",
    "# print (element_center)\n",
    "# tss_center = 'chrX_48785536_48787536'\n",
    "# print (tss_center)\n",
    "# dir_in = '/PHShome/lf588/enformerOPS/positive_and_negative_controls_original_id_fix_4k_encode_intersection_gm_03/'\n",
    "# !mkdir $dir_in\n",
    "# j_List = []\n",
    "#    # use the backslash in the end\n",
    "# split_data_number=12\n",
    "# for r in range(0,split_data_number):\n",
    "#     j_List.append(job_generate_execute(str(r),\n",
    "#                                        split_data_number, \n",
    "#                                        partition='Medium', \n",
    "#                                        demo='False',\n",
    "#                                        seq_amount_demo=10,\n",
    "#                                        just_generated='True',\n",
    "#                                         save_interval=500,\n",
    "#                                         skip_generated='False',\n",
    "#                                         element=element_center,\n",
    "#                                         tss=tss_center,\n",
    "#                                         gene_name='GATA1_teste', #gene_name not working ; ignore for now\n",
    "#                                         dir_write_job=dir_in,\n",
    "#                                         custom_master_table='enformerOPS/ENFORMER_total_controls_compiled_gm_original.txt' )   )\n",
    "\n",
    "\n",
    "# f'cd {dir_in} ;'  + '; '.join(['sbatch '+ s for s in j_List]) .replace('//', '/')\n",
    "\n",
    "\n",
    "# #partition Short/Long"
   ]
  },
  {
   "cell_type": "code",
   "execution_count": 21,
   "metadata": {},
   "outputs": [
    {
     "name": "stdout",
     "output_type": "stream",
     "text": [
      "sbatch: Job \"slurm-single-job\" queued to partition(s): Medium.\n",
      "Submitted batch job 55374\n",
      "sbatch: Job \"slurm-single-job\" queued to partition(s): Medium.\n",
      "Submitted batch job 55375\n",
      "sbatch: Job \"slurm-single-job\" queued to partition(s): Medium.\n",
      "Submitted batch job 55376\n",
      "sbatch: Job \"slurm-single-job\" queued to partition(s): Medium.\n",
      "Submitted batch job 55377\n",
      "sbatch: Job \"slurm-single-job\" queued to partition(s): Medium.\n",
      "Submitted batch job 55378\n",
      "sbatch: Job \"slurm-single-job\" queued to partition(s): Medium.\n",
      "Submitted batch job 55379\n",
      "sbatch: Job \"slurm-single-job\" queued to partition(s): Medium.\n",
      "Submitted batch job 55380\n",
      "sbatch: Job \"slurm-single-job\" queued to partition(s): Medium.\n",
      "Submitted batch job 55381\n",
      "sbatch: Job \"slurm-single-job\" queued to partition(s): Medium.\n",
      "Submitted batch job 55382\n",
      "sbatch: Job \"slurm-single-job\" queued to partition(s): Medium.\n",
      "Submitted batch job 55383\n",
      "sbatch: Job \"slurm-single-job\" queued to partition(s): Medium.\n",
      "Submitted batch job 55384\n",
      "sbatch: Job \"slurm-single-job\" queued to partition(s): Medium.\n",
      "Submitted batch job 55385\n"
     ]
    }
   ],
   "source": [
    "# !cd /PHShome/lf588/enformerOPS/positive_and_negative_controls_original_id_fix_4k_encode_intersection_gm_03/ ;sbatch /PHShome/lf588/enformerOPS/positive_and_negative_controls_original_id_fix_4k_encode_intersection_gm_03/generate_job_execute_n0.sh; sbatch /PHShome/lf588/enformerOPS/positive_and_negative_controls_original_id_fix_4k_encode_intersection_gm_03/generate_job_execute_n1.sh; sbatch /PHShome/lf588/enformerOPS/positive_and_negative_controls_original_id_fix_4k_encode_intersection_gm_03/generate_job_execute_n2.sh; sbatch /PHShome/lf588/enformerOPS/positive_and_negative_controls_original_id_fix_4k_encode_intersection_gm_03/generate_job_execute_n3.sh; sbatch /PHShome/lf588/enformerOPS/positive_and_negative_controls_original_id_fix_4k_encode_intersection_gm_03/generate_job_execute_n4.sh; sbatch /PHShome/lf588/enformerOPS/positive_and_negative_controls_original_id_fix_4k_encode_intersection_gm_03/generate_job_execute_n5.sh; sbatch /PHShome/lf588/enformerOPS/positive_and_negative_controls_original_id_fix_4k_encode_intersection_gm_03/generate_job_execute_n6.sh; sbatch /PHShome/lf588/enformerOPS/positive_and_negative_controls_original_id_fix_4k_encode_intersection_gm_03/generate_job_execute_n7.sh; sbatch /PHShome/lf588/enformerOPS/positive_and_negative_controls_original_id_fix_4k_encode_intersection_gm_03/generate_job_execute_n8.sh; sbatch /PHShome/lf588/enformerOPS/positive_and_negative_controls_original_id_fix_4k_encode_intersection_gm_03/generate_job_execute_n9.sh; sbatch /PHShome/lf588/enformerOPS/positive_and_negative_controls_original_id_fix_4k_encode_intersection_gm_03/generate_job_execute_n10.sh; sbatch /PHShome/lf588/enformerOPS/positive_and_negative_controls_original_id_fix_4k_encode_intersection_gm_03/generate_job_execute_n11.sh\n"
   ]
  },
  {
   "cell_type": "code",
   "execution_count": 23,
   "metadata": {},
   "outputs": [
    {
     "name": "stdout",
     "output_type": "stream",
     "text": [
      "             JOBID PARTITION     NAME     USER ST       TIME  NODES NODELIST(REASON)\n",
      "             55390     Basic jupyterH    vd008  R       5:23      1 dgx-4\n",
      "             55104      Long   Python    yl501  R   21:52:16      1 dgx-3\n",
      "             55389    Medium ml4h-jup    snf13  R       5:27      1 dgx-4\n",
      "             55387    Medium ml4h-jup    snf13  R      15:59      1 dgx-2\n",
      "             55093    Medium interfac    ha718  R   22:36:10      1 dgx-1\n",
      "             55087    Medium  jupyter    ha718  R   23:13:00      1 dgx-1\n",
      "             55386     Short ml4h-nlp    vd008  R      17:02      1 dgx-2\n"
     ]
    }
   ],
   "source": [
    "!squeue \n",
    "\n"
   ]
  },
  {
   "cell_type": "code",
   "execution_count": 120,
   "metadata": {},
   "outputs": [],
   "source": [
    "# !scancel 54288 54289 54290 54291"
   ]
  },
  {
   "cell_type": "code",
   "execution_count": null,
   "metadata": {},
   "outputs": [],
   "source": [
    "# !mamba install -c bioconda bedtools -y \n",
    "# !mamba install -c bioconda pybedtools -y \n",
    "\n"
   ]
  },
  {
   "cell_type": "code",
   "execution_count": 29,
   "metadata": {},
   "outputs": [
    {
     "data": {
      "text/plain": [
       "0           10215.5\n",
       "1          632254.5\n",
       "2          634175.5\n",
       "3         1209164.5\n",
       "4         1680455.5\n",
       "           ...     \n",
       "7092    150897602.5\n",
       "7093    153341877.5\n",
       "7094    154730899.5\n",
       "7095    154987360.5\n",
       "7096    155007219.5\n",
       "Length: 7097, dtype: float64"
      ]
     },
     "execution_count": 29,
     "metadata": {},
     "output_type": "execute_result"
    }
   ],
   "source": []
  },
  {
   "cell_type": "code",
   "execution_count": 74,
   "metadata": {},
   "outputs": [
    {
     "name": "stdout",
     "output_type": "stream",
     "text": [
      "chr1\t1134850\t1135934\tCRISPR/CRISPRi\tK562\n",
      "chr1\t3774714\t3775214\tCRISPR/CRISPRi\tK562\n",
      "chr1\t7609019\t7609150\tMPRA,STARR-seq\tK562\n",
      "chr1\t8211967\t8212262\tMPRA,STARR-seq\tK562\n",
      "chr1\t11671357\t11671758\tCRISPR/CRISPRi\tK562\n",
      "chr1\t11798397\t11798798\tCRISPR/CRISPRi\tK562\n",
      "chr1\t12038249\t12039371\tCRISPR/CRISPRi\tK562\n",
      "chr1\t12541561\t12541856\tMPRA,STARR-seq\tK562\n",
      "chr1\t12604402\t12604697\tMPRA,STARR-seq\tK562\n",
      "chr1\t17569192\t17569487\tMPRA,STARR-seq\tK562\n"
     ]
    }
   ],
   "source": [
    "!head /PHShome/lf588/enformerOPS/K562_knownEnhancer_PINTS[99].bed"
   ]
  },
  {
   "cell_type": "code",
   "execution_count": 2,
   "metadata": {},
   "outputs": [],
   "source": [
    "#USE THE ENFORMER (PYTHON 3.10.5) ENVIRONMENT\n",
    "import pandas as pd\n",
    "import numpy as np\n",
    "from pybedtools import BedTool\n",
    "import pandas as pd\n"
   ]
  },
  {
   "cell_type": "code",
   "execution_count": 12,
   "metadata": {},
   "outputs": [],
   "source": [
    "\n",
    "non_df = BedTool('/PHShome/lf588/enformerOPS/noEnhancer_PINTS.bed').to_dataframe()\n",
    "non_df['category'] = 'NEGATIVE'\n",
    "k562_df = BedTool('/PHShome/lf588/enformerOPS/K562_knownEnhancer_PINTS[99].bed').to_dataframe()\n",
    "k562_df['category'] = 'K562_POSITIVE'\n",
    "#file provided by the original gm  starr-seq paper paper , sorted by positives\n",
    "gm_df = BedTool('/PHShome/lf588/enformerOPS/sorted_4k_intersections_gm_and_encode_intersection_hg38.bed').to_dataframe()\n",
    "gm_df['category'] = 'GM12878_POSITIVE'\n",
    "\n",
    "hepg2_df =  BedTool('/PHShome/lf588/enformerOPS/Distal_HepG2_f1df8e8f-c5a5-4731-9135-2359852b41bd.bed').to_dataframe()\n",
    "hepg2_df['category'] = 'HEPG2_POSITIVE'\n",
    "\n",
    "\n",
    "df_all_sequences_validation = pd.concat([non_df, k562_df, gm_df, hepg2_df]).reset_index(drop=True)\n",
    "\n",
    "\n"
   ]
  },
  {
   "cell_type": "code",
   "execution_count": 13,
   "metadata": {},
   "outputs": [],
   "source": [
    "\n",
    "\n",
    "negative_enhancers  = BedTool.from_dataframe(df_all_sequences_validation)\n",
    "mt_df = pd.read_csv('1k_MASTER_CUSTOM_TABLE.txt', sep='\\t')\n",
    "len_controls = negative_enhancers.to_dataframe().shape[0]\n",
    " # thin need to be changed\n",
    "df_change = pd.concat([mt_df.sample(1) for x in range(len_controls)])\n",
    "\n",
    "\n"
   ]
  },
  {
   "cell_type": "code",
   "execution_count": null,
   "metadata": {},
   "outputs": [],
   "source": []
  },
  {
   "cell_type": "code",
   "execution_count": 14,
   "metadata": {},
   "outputs": [],
   "source": [
    "df_change_coords = negative_enhancers.to_dataframe()\n",
    "center  = df_change_coords['start'] + ((df_change_coords['end'] - df_change_coords['start']) /2)\n",
    "center = np.array([int(x) for x in center])\n",
    "df_change_coords['start'] = center -100\n",
    "df_change_coords['end'] = center +100\n",
    "negative_enhancers_FINAL = BedTool.from_dataframe(df_change_coords[df_change_coords.columns[:3]])\n",
    "a_neg = negative_enhancers_FINAL.sequence(fi='genome.fa')"
   ]
  },
  {
   "cell_type": "code",
   "execution_count": 15,
   "metadata": {},
   "outputs": [],
   "source": [
    "\n",
    "df_sequences_use = pd.DataFrame([x.split('\\n') for x in  (open(a_neg.seqfn).read()).split('>')[1:] ])\n",
    "df_change['ID'] = df_sequences_use[0].values\n",
    "df_change['SEQUENCE'] = df_sequences_use[1].apply(str.upper).values\n",
    "df_change['TAG'] = df_change_coords[ df_change_coords.columns[3]].values\n",
    "df_change['chrom'] = df_change['ID'].apply(lambda x: x.split(':')[0]).values\n",
    "df_change['start'] = df_change['ID'].apply(lambda x: x.split(':')[1].split('-')[0]).values\n",
    "df_change['end'] = df_change['ID'].apply(lambda x: x.split(':')[1].split('-')[1]).values\n",
    "df_change['CELL_TYPE'] = 'NON_APLICABLE'\n",
    "df_change.to_csv('total_controls_compiled_sammer_gm_original.txt',   sep='\\t', index=False, header=True)\n",
    "df_change['TAG'] = 'GENERATED'\n",
    "df_change.to_csv('ENFORMER_total_controls_compiled_gm_original.txt',   sep='\\t', index=False, header=True)\n",
    "\n"
   ]
  },
  {
   "cell_type": "code",
   "execution_count": 10,
   "metadata": {},
   "outputs": [
    {
     "data": {
      "text/plain": [
       "12530"
      ]
     },
     "execution_count": 10,
     "metadata": {},
     "output_type": "execute_result"
    }
   ],
   "source": [
    "len(set(df_change['SEQUENCE'].unique()))"
   ]
  },
  {
   "cell_type": "code",
   "execution_count": 21,
   "metadata": {},
   "outputs": [
    {
     "name": "stdout",
     "output_type": "stream",
     "text": [
      "chr1\t210671733\t210671933\tchr1:210671733-210671933\tNON_APLICABLE\tAACTAAGAATACATGTCTATTGTTTTAATCTACTAAGTTTGGTAAGTTGTTATGGTAGCCACAGGACACATACTGGCTGCCTAGCAGGAGGTGGAGCTGTGGGGCTGGTCCTGGAGCCAGGCTGCCAGGGGTCGTCTGCTGCCCTCACCTCTCTTGCCTGCAGGGCCTGGGAGAACACTGTGGAAAGCCAGGCTAAGGCG\tHEPG2_POSITIVE\n",
      "chr1\t228178893\t228179093\tchr1:228178893-228179093\tNON_APLICABLE\tTGCGGCTGGCCAGCTGGAGTGATTTCCATGGGCTCCAAGCTGTAGGAGTGGTCCCTGGCTGCCAGAGTGCTCTGGCCAGATAGAGGTGGGCTCTGGACTGGTGAGGCTGCATTGCGGAGGCGCGCACACCCAGCTGGGCCCTTATCTGTAAGGACTGGCTGGCCTGGGAGGGGCAGTCTCCCAGCCAGAAGGTGGAATTT\tHEPG2_POSITIVE\n",
      "chr10\t104252460\t104252660\tchr10:104252460-104252660\tNON_APLICABLE\tACAGACTCCCTCACAGACTCCCTCCTCAGAAGGCAGCAACCCTGCTGACACCTTCATCTTGGACTTGTAGCCTCTAGAACTGTGAGGCAACACACTTCTGTTATTTAAGCCACTCTGCAGTACTTTGTTACCCTAGTCCTAGCAACTGAATACAGGGGTGGAGCCAGGATCAAAACAGGCAGGGTGCTCCAACACTTGGT\tHEPG2_POSITIVE\n",
      "chr1\t169113676\t169113876\tchr1:169113676-169113876\tNON_APLICABLE\tTCCATCCCCTTCCTAAAAGACATGTTCTTAGTACCTATATTTAGTGTGCTCACAGCAGTTGGACTGACCTGACAAACCCTGACTTCTCCAAAGGAATGCTGGTGGCTCATCTTGGAAAAATGCATTCCTGTCCTGTGGTCTGAGTCACAGGAAAAGTCCTCAGTCCTCCATCTTCCTTGTTCTTTGGCCTGGTAATTTCT\tHEPG2_POSITIVE\n",
      "chr1\t38502882\t38503082\tchr1:38502882-38503082\tNON_APLICABLE\tGTAAGTGTTGGGAGTTTGGCCAGCCCTCTCCAAAGCTCTCTGCTGCTAGCCCTAGGCGTCCCTTAAAGTCATTTCTTAGAGCCCAAGAAGAGCCCTGCTATGGCCCTTTGGTGGGATAAGAGCGACCCCCAGTGCTCAGGAACTTGCCCAGGCAAGCTCTTTACCCACAGGTTCTATTTAAAGGGGCAGTTTGAACCTGT\tHEPG2_POSITIVE\n",
      "chr1\t57017722\t57017922\tchr1:57017722-57017922\tNON_APLICABLE\tGCACTGAAACAAGAGGGGTGAAGAGGCCCTGGAGCTGAAATTTCAAACGTGAAGCTTGCTTAGCTTGCCTCGCCCATGGCATAATAATGTAGTGGCTTAAATCTACCAACAGATGAAGAATCCGGCAACTCTGTCTTGTTTTCTGGTTTACTTTGATATGGCCCAGTGGTTCTCAGTGGGAGTGCTACTGCCCCCTAGGG\tHEPG2_POSITIVE\n",
      "chr10\t113053955\t113054155\tchr10:113053955-113054155\tNON_APLICABLE\tCACCCTTCAGTGTTATGCTGCCTTAATCAGGCACACATACAGGCGGGGAGAGGCAGGTTTCCGGACACCAGACTAGGCTGGTGCCGGTCAGGCTACACCAGGGAACCTGGAGGCCTGTCATTCTTTTGTGATGCTGTTAGTTCCTGTTGAGGAAGTGAGGCTTTGTGGGTTCCCAGGAGGAAAAGGTATGAACTCATGGC\tHEPG2_POSITIVE\n",
      "chr1\t85254792\t85254992\tchr1:85254792-85254992\tNON_APLICABLE\tCTATGCATTAGCATACATTTAGATGATACTGAGATATTTTTGCTTTTAATTTGCCACTTATTACAAGTAAATTAACTGAATAACAAAACCACAAACTACTGAAGTTAAAAAGTAACTGGCTATCAGTGATTTGAGCAGAAGTGCTATGCCATCTAGTGTCATGACAAGGCATTGCTTTATAAACTAGAGTAGGAAAAAAT\tHEPG2_POSITIVE\n",
      "chr1\t167742378\t167742578\tchr1:167742378-167742578\tNON_APLICABLE\tGTGTATCGCCTAACTATATTATGGGCAGATACCTTAATAGTATCTTTCAAATAAAAAAGATACTTGCCAACTTTTAAAATAAATATATATGGAGTGCCTGAGGGAATTTCTTAAGGAGTCCATAGTCTATCATCAGTCTACCATAATCAGAATAGGAACTATAGTTTATTTTGGAATGGATTGTGAAGATTTTCTCTCAC\tHEPG2_POSITIVE\n",
      "chr1\t2381836\t2382036\tchr1:2381836-2382036\tNON_APLICABLE\tGAATAAGCTCTGGGCTCCCGGGGAGGAGCTGCCTCCCTCCAGCAAGGCCCGGGCCAGTGTGGTGCCGGGACAGGGCTGGGCTGCCCCCTGGTGGATGCGCTGAGCACCCTGGTGCTGTCAGCCCAGGAGGGAGGGCGCCGTCCCTTGCCTGGTCCTCTCTCTTGGCCCAGGGCGCTGGTGACCAGCAAGCAGTGTGGACC\tHEPG2_POSITIVE\n"
     ]
    }
   ],
   "source": [
    "!tail  total_controls_compiled_sammer_gm_original.txt"
   ]
  },
  {
   "cell_type": "code",
   "execution_count": 22,
   "metadata": {},
   "outputs": [
    {
     "name": "stdout",
     "output_type": "stream",
     "text": [
      "head: cannot open ‘NFORMER_total_controls_compiled_gm_original.txt’ for reading: No such file or directory\n"
     ]
    }
   ],
   "source": [
    "!head NFORMER_total_controls_compiled_gm_original.txt\n",
    "\n"
   ]
  },
  {
   "cell_type": "markdown",
   "metadata": {},
   "source": [
    "## The custom master table is working, but i need to make sure all the category are included.\n",
    "-   Other option is run a specific class using some tags"
   ]
  },
  {
   "cell_type": "code",
   "execution_count": 58,
   "metadata": {},
   "outputs": [
    {
     "name": "stdout",
     "output_type": "stream",
     "text": [
      "sbatch: Job \"slurm-single-job\" queued to partition(s): Short.\n",
      "Submitted batch job 54285\n"
     ]
    }
   ],
   "source": [
    "!cd /PHShome/lf588/enformerOPS/axin2_debug_2/ ;sbatch /PHShome/lf588/enformerOPS/axin2_debug_2/generate_job_execute_n0.sh\n"
   ]
  },
  {
   "cell_type": "code",
   "execution_count": 7,
   "metadata": {},
   "outputs": [
    {
     "name": "stdout",
     "output_type": "stream",
     "text": [
      "             JOBID PARTITION     NAME     USER ST       TIME  NODES NODELIST(REASON)\n",
      "             55114      Long llama_7b    ba700  R    7:15:34      1 dgx-4\n",
      "             55104      Long   Python    yl501  R   12:24:06      1 dgx-3\n",
      "             55093    Medium interfac    ha718  R   13:08:00      1 dgx-1\n",
      "             55087    Medium  jupyter    ha718  R   13:44:50      1 dgx-1\n"
     ]
    }
   ],
   "source": [
    "\n",
    "!squeue"
   ]
  },
  {
   "cell_type": "code",
   "execution_count": 22,
   "metadata": {},
   "outputs": [],
   "source": [
    "!scancel 53102"
   ]
  },
  {
   "cell_type": "code",
   "execution_count": 18,
   "metadata": {},
   "outputs": [],
   "source": [
    "# !ls -lht $dir_in\n",
    "# !squeue -u lf588  "
   ]
  },
  {
   "cell_type": "code",
   "execution_count": 19,
   "metadata": {},
   "outputs": [],
   "source": [
    "# !head  /PHShome/lf588/enformerOPS/general_test/paper0.sh\n",
    "# !cat /PHShome/lf588/enformerOPS/general_test/generate_job_execute_n0.sh\n",
    "# !cat /PHShome/lf588/enformerOPS/general_test/log_papermill_job_n3.log"
   ]
  },
  {
   "cell_type": "code",
   "execution_count": 56,
   "metadata": {},
   "outputs": [
    {
     "name": "stdout",
     "output_type": "stream",
     "text": [
      "             JOBID PARTITION     NAME     USER ST       TIME  NODES NODELIST(REASON)\n"
     ]
    }
   ],
   "source": [
    "!squeue -u  lf588\n",
    "!scancel -u lf588"
   ]
  },
  {
   "cell_type": "code",
   "execution_count": 47,
   "metadata": {},
   "outputs": [
    {
     "name": "stdout",
     "output_type": "stream",
     "text": [
      "generate_job_execute_n0.sh   generate_job_execute_n5.sh  paper15.sh\n",
      "generate_job_execute_n10.sh  generate_job_execute_n6.sh  paper16.sh\n",
      "generate_job_execute_n11.sh  generate_job_execute_n7.sh  paper17.sh\n",
      "generate_job_execute_n12.sh  generate_job_execute_n8.sh  paper18.sh\n",
      "generate_job_execute_n13.sh  generate_job_execute_n9.sh  paper19.sh\n",
      "generate_job_execute_n14.sh  log_papermill_job_n0.log\t paper1.sh\n",
      "generate_job_execute_n15.sh  log_papermill_job_n1.log\t paper2.sh\n",
      "generate_job_execute_n16.sh  log_papermill_job_n2.log\t paper3.sh\n",
      "generate_job_execute_n17.sh  log_papermill_job_n3.log\t paper4.sh\n",
      "generate_job_execute_n18.sh  paper0.sh\t\t\t paper5.sh\n",
      "generate_job_execute_n19.sh  paper10.sh\t\t\t paper6.sh\n",
      "generate_job_execute_n1.sh   paper11.sh\t\t\t paper7.sh\n",
      "generate_job_execute_n2.sh   paper12.sh\t\t\t paper8.sh\n",
      "generate_job_execute_n3.sh   paper13.sh\t\t\t paper9.sh\n",
      "generate_job_execute_n4.sh   paper14.sh\n"
     ]
    }
   ],
   "source": []
  },
  {
   "cell_type": "code",
   "execution_count": null,
   "metadata": {},
   "outputs": [],
   "source": [
    "!ls -lht\n",
    "!pwd"
   ]
  },
  {
   "cell_type": "code",
   "execution_count": 36,
   "metadata": {},
   "outputs": [
    {
     "name": "stdout",
     "output_type": "stream",
     "text": [
      "ENHANCER_1_DNASE:GM12878_enformer.bw\tENHANCER_1_DNASE:K562_enformer.bw\tENHANCER_1_DNASE:HepG2_enformer.bw\tENHANCER_1_DNASE:H1esc_enformer.bw\tENHANCER_1_CAGE:K562_enformer.bw\tENHANCER_1_CAGE:GM12878_enformer.bw\tENHANCER_1_CAGE:HepG2_enformer.bw\tENHANCER_SEQ_ID\tENHANCER_TARGET_NAME\tGENE_1_DNASE:GM12878_enformer.bw\tGENE_1_DNASE:K562_enformer.bw\tGENE_1_DNASE:HepG2_enformer.bw\tGENE_1_DNASE:H1esc_enformer.bw\tGENE_1_CAGE:K562_enformer.bw\tGENE_1_CAGE:GM12878_enformer.bw\tGENE_1_CAGE:HepG2_enformer.bw\tGENE_SEQ_ID\tGENE_TARGET_NAME\n",
      "453.5\t37.5\t519.5\t112.0\t5.0\t87.0\t131.0\t73747_GENERATED_HEPG2\tENH_GATA1\t268.8240872451399\t54.307254623044095\t604.5291607396871\t1067.5912754860124\t33.998577524893314\t283.16121384542436\t1039.162162162162\tCTATCCTTTCTGTTCCTATGAAACTCTCTGTACAGTCACAAGTCTAAAAAGATCTGCCCTTCAAACATACTACATTGCTTGACCACATCTCAATGAGTCCAAATATTTACAGAGTATTTACCTGACACTATCTGACAGTAATACTCTCTGAAAGCTTAGGACTACACCCTAGAAACATTCTAGTCCTCACCCCAAGGAAA\tGATA1_TSS_2K\n",
      "704.0\t142.5\t3331.0\t1950.0\t7.0\t121.0\t621.5\t40105_GENERATED_HEPG2\tENH_GATA1\t269.22000948316736\t53.26979611190138\t585.5381697486961\t1048.054054054054\t31.680417259364628\t299.6225699383594\t1042.339497392129\tCTTCCCATCAACCATCTCCTCAGTACAATGCTCTCTCTTTCTCTCTCCCTCCCCGTTCGTCTCCCCGGAACAGGCCATGGAGCAAAGGCAAAGTTCAGTCCCAGCTCCGTCTCCCTCCCAGGTGCTGCACAGTGCCCCCTTGCGCCTCTGTGTCCTGCAGCCTGGAGTGCCCAGCTGGTCCCCAGGTGGTGGGGGAGGGG\tGATA1_TSS_2K\n",
      "2792.5\t51.5\t264.0\t182.0\t4.0\t417.5\t28.0\t50657_GENERATED_HESCT0\tENH_GATA1\t299.17780938833573\t63.68421052631579\t626.4305357989568\t1115.245139876719\t38.207207207207205\t449.47463252726413\t938.2887624466572\tGAATTGAATGGTTAACATTTTAGGGGAATTCCCCTTTCCACCAACAAACTTCGTAGAACCACAGATTCTCAGGAACTGAAAGTCTCAAAAGCAGACTTCAGTCTCTTCTGTGTTCCATTTAAATTCAGAACACTTGAGTAGTGATGTCATGAACTTTTCGTCTACTCAGTACTGTCATTTGCTGTTGAGTCAATTCTCAA\tGATA1_TSS_2K\n",
      "338.5\t35.5\t306.5\t137.0\t11.0\t96.5\t83.5\t5961_GENERATED_K562\tENH_GATA1\t265.69890943575155\t53.39118065433855\t609.578947368421\t1055.9791370317687\t32.25177809388336\t279.69653864390705\t1038.9630156472263\tCTGAGTGCTGCAGAGCCTGACAAGTGACTTCAGTCCACTGTACCGTACTTTCACCTAACAAACAGTGGTCTTCACAAGAGTCCTTCCTTGAACATCTACAATATATTTTATCCCATATCAGGGGTGAAGAGATCAGGACTGGGTTAGCTGCTATAACATCAGTATTGTTTTCTATAGCTGTCCTTTGGCCAGAACCCTAA\tGATA1_TSS_2K\n",
      "482.0\t34.0\t286.5\t172.5\t18.5\t223.0\t117.0\t17138_GENERATED_GM12878\tENH_GATA1\t268.86439070649595\t54.18397344713134\t608.6979611190137\t1057.031294452347\t33.067804646752016\t287.56804172593644\t1048.384542437174\tTCTGAAAGGAAGAAAAGATACTTTCCCCCTGGCAGTGTGAATGGACTACCGGGGTGCTGTAGGAGAGGGAAATAAAAGTTTCAAAGGTGTCAGAAAGAGCTTCCAAGGTTCAGTTCTTTATAGTAGTTAGTATACTCATACCTTTGTCTCTGTACTTCACCTTTTTGGTTAGTTTATTAGCTTCTCAGTGAAGTCTACTT\tGATA1_TSS_2K\n"
     ]
    }
   ],
   "source": [
    "!cat /PHShome/lf588/enformerOPS/axin2/1_GENERATED_SEQS.TXT"
   ]
  },
  {
   "cell_type": "code",
   "execution_count": null,
   "metadata": {},
   "outputs": [],
   "source": [
    "#podman tag 456a2c7cdf9d  erisxdl.partners.org/mgh-pinello-g/enformerops:latest;\n",
    "#podman push erisxdl.partners.org/mgh-pinello-g/enformerops:latest"
   ]
  },
  {
   "cell_type": "code",
   "execution_count": 18,
   "metadata": {},
   "outputs": [
    {
     "name": "stdout",
     "output_type": "stream",
     "text": [
      "True\n"
     ]
    }
   ],
   "source": [
    "print(bool('False'))"
   ]
  },
  {
   "cell_type": "code",
   "execution_count": 21,
   "metadata": {},
   "outputs": [
    {
     "ename": "ZeroDivisionError",
     "evalue": "integer division or modulo by zero",
     "output_type": "error",
     "traceback": [
      "\u001b[0;31m---------------------------------------------------------------------------\u001b[0m",
      "\u001b[0;31mZeroDivisionError\u001b[0m                         Traceback (most recent call last)",
      "Cell \u001b[0;32mIn[21], line 1\u001b[0m\n\u001b[0;32m----> 1\u001b[0m \u001b[39mif\u001b[39;00m (\u001b[39m100\u001b[39;49m \u001b[39m%\u001b[39;49m     \u001b[39m0\u001b[39;49m)\u001b[39m==\u001b[39m\u001b[39m0\u001b[39m:\n\u001b[1;32m      2\u001b[0m     \u001b[39mprint\u001b[39m (\u001b[39m'\u001b[39m\u001b[39mok\u001b[39m\u001b[39m'\u001b[39m)\n",
      "\u001b[0;31mZeroDivisionError\u001b[0m: integer division or modulo by zero"
     ]
    }
   ],
   "source": [
    "if (100 %     0)==0:\n",
    "    print ('ok')"
   ]
  },
  {
   "cell_type": "code",
   "execution_count": null,
   "metadata": {},
   "outputs": [],
   "source": [
    "[lf588@erisxdl1 enformerOPS]$ cat 1_TRAIN_VAL_TEST_GATA1_SEQS.TXT \n",
    "ELEMENT_1_DNASE:GM12878_enformer.bw     ELEMENT_1_DNASE:K562_enformer.bw        ELEMENT_1_DNASE:HepG2_enformer.bw       ELEMENT_1_DNASE:H1esc_enformer.bw        ELEMENT_1_CAGE:K562_enformer.bw ELEMENT_1_CAGE:GM12878_enformer.bw      ELEMENT_1_CAGE:HepG2_enformer.bw ELEMENT_SEQ_ID  ELEMENT_TARGET_NAME     TSS_1_DNASE:GM12878_enformer.bw TSS_1_DNASE:K562_enformer.bw     TSS_1_DNASE:HepG2_enformer.bw   TSS_1_DNASE:H1esc_enformer.bw   TSS_1_CAGE:K562_enformer.bw     TSS_1_CAGE:GM12878_enformer.bw   TSS_1_CAGE:HepG2_enformer.bw    TSS_SEQ_ID      TSS_TARGET_NAME\n",
    "29.5    30.5    24.0    21.0    3.0     5.0     3.5     chr10_23016727_23016915_23016830        ENH_GATA1       188.34  2078.4565        264.879 241.8395        744.448 143.4415        70.6705 ACAGTTCAGGAGTTCCCGGAAATTCTCTCTTTTTAATCATTCATAAGATTGCATTTCCTGGAGGTGTATCAGATATTTTCTCCTTCATGCCAAATGACTCCTTGTTCTTACATCAGGCAGCACGCTCTGTGAGACACACTCCTGCCTCTGTTTTGTAGGTAACTCTGAATAGTCACTCTATTCAGTGACGAAGTATTGGA  GATA1_TSS_2K\n",
    "27.0    26.5    18.5    19.0    2.5     4.5     2.5     chr7_44972140_44972371_44972250 ENH_GATA1       185.274 2008.0085257.322 237.1275        737.809 147.57  69.441  TGTGAAATTGTATACAGCAGGGTTTCTCTCCAAGTGCAGTTCATGCAGCTGCTTGTCCTCACTGCCTCTCAGCAACTAGAGGACACAGGCATCCTTTAGACAAATAAGCTCCCAGGATGTCCCCCTGTACACACACACAGGCAGGAGAACAAACAGACTTGCGCTTCCTTCCAGTATTGAACGAACAAACGTGGGGGAAG  GATA1_TSS_2K\n",
    "13.5    38.5    6.0     8.0     0.5     2.0     1.0     chr4_68148920_68149140_68149030 ENH_GATA1       190.76  2064.4145263.451 260.8855        766.875 126.425 66.1695 GACATACATTACATCATTTCTTATTTTTCAAGGAAGAACATGTTTTACAACTTGAGATTATCTGTTTAGTGACCTTGCAGCTGCACAGCTAGAGAAACAGAGTCTTCATAATGCCTTGGAAAGGGAGAGATAAGGCTCACTAGCCACAGAAAAACAGGCAGTTATTTTTTAAAGGACTTCGGCTCTTTCTCTTCCTCTGG  GATA1_TSS_2K\n",
    "29.5    30.5    24.0    21.0    3.0     5.0     3.5     chr17_66573174_66573360_66573270        ENH_GATA1       188.34  2078.4565        264.879 241.8395        744.448 143.4415        70.6705 AAAGCAGCTCCTCTCTCAAGGTGAGTTCAGCAGTTGTCAGTGGATAAAAGGACCTTGTAATGAGCAGCTAAGCCCACACTCCTGAAATGCCTTTTCATTGCAAGAGTGAAAACGAGAGATAAAGGAGGTTTTTTCCTGAGTAATTCTAGCTTGCCTAGCACGCTATGAGCAACAGATAGAGGCCAACTTTAAAATCTCCA  GATA1_TSS_2K\n",
    "29.5    30.5    24.0    21.0    3.0     5.0     3.5     chr10_80488300_80488500_80488390        ENH_GATA1       188.34  2078.4565        264.879 241.8395        744.448 143.4415        70.6705 AAAGGAAAGCAGCAAAGGTAGGCCAGGCCCTCAGAAAAGTCCCTCGGAAATAGCACCCTCCTGCAGTAGGATCTCTGAGGTTGCTTTGAGGGTTAGACACAGATAAAAAACAGTGGCCCCACCCTTCACTCTGTAGTTCACAGGGTCTTCCCACATAGGCTGTGTAATCCAAGCTTCATTACAGCCCTGGAGGACAAAGC  GATA1_TSS_2K\n",
    "13.5    38.5    6.0     8.0     0.5     2.0     1.0     chr2_60977306_60977487_60977390 ENH_GATA1       190.76  2064.4145263.451 260.8855        766.875 126.425 66.1695 GTAAAGTTGGACACTTTGGGGTATGTTATGTGTGTTCATAAGTGAGGTTAGGGGTTCAGCGATTAAAGATGAAACTGGAAAGTTCAGAAGGTTTTGATTGCCAAGCTAGGTCATGAACCCAAAGACTGAAACCATAACATGAGATGTGATTCATTTACGTATAGGCCAAGACTCGCGGCAGCACAAAGAAACATTTGATA  GATA1_TSS_2K\n",
    "13.5    38.5    6.0     8.0     0.5     2.0     1.0     chr13_43030680_43030820_43030750        ENH_GATA1       190.76  2064.4145        263.451 260.8855        766.875 126.425 66.1695 GCATTTTTTCCTCAAGGGACTTGACCAGAAACTAAACCTAGACTCTCAGACTGGGAACTCCCCAGCAGTGGAGATCCTGCCTGATTCACTTTTGAGAATGACTTCTAGGGCCAAGCACAGCACGGGGTAGGTTGCAGATACTTAGTAAATGTCTTTTCAAGGGTAAGGGAATGAAAGACTAAGGCATAGGTGTCATAAGA  GATA1_TSS_2K\n",
    "27.0    26.5    18.5    19.0    2.5     4.5     2.5     chr11_133545179_133545380_133545270     ENH_GATA1       185.274 2008.0085        257.322 237.1275        737.809 147.57  69.441  TACAAGTAGAGGGGCCAGAAAGTGTGGTTTTGGTTCCTCCTCCAAAGCAGGCCAGTGGGCATTAGTAATGGTGGGGGAGGGAGGAGGTCCCTAGGGAGGATCTGCATAATGACACTGAGACCATTTACCAAGACACAAATGCAAACTGAAAGAGTAATATTCTTCAGTGACATATTCAAGCAGGAGAGAAAACTGTTTTA  GATA1_TSS_2K\n",
    "27.0    26.5    18.5    19.0    2.5     4.5     2.5     chr1_160995340_160995508_160995430      ENH_GATA1       185.274 2008.0085        257.322 237.1275        737.809 147.57  69.441  TATCCCCTCCCCTGTCCTTGATCTGTAGATCCTGTTAAGACAGGAAAAACAGTGTTGGTCAAAGGGTACACGCTTTCAGTTACAAGATGAACAAGTTCTGAATACGTAAGATAGAACATGGGAGGTGATGTGGCCGGGTGCAGTGACTCACGCCTGTAATCCCAGCACTTTGGGAGGCCGAGGTGGGCGGATCATGAGGT  GATA1_TSS_2K\n",
    "27.0    26.5    18.5    19.0    2.5     4.5     2.5     chr1_167620106_167620306_167620220      ENH_GATA1       185.274 2008.0085        257.322 237.1275        737.809 147.57  69.441  TAGATGGGATGGGGGGAGTATGAGTCAAGGCTGGAGGTAAGGAGAACAACTAGAAGATGCAGAGATTAACTAGGACACTGTTTTCATAATCCTGACGTTAAGAGGGCAGTGACAGTGATGGAGGGAGGGGGGATGATGTCAGGGAGCTTCAGAGCTAGAACGGCAGCACCTGATTGCTAAAGATGAAGGATAAATCGAGA  GATA1_TSS_2K\n",
    "15.0    39.0    7.5     9.0     0.5     2.0     1.0     chr9_18890480_18890671_18890570 ENH_GATA1       189.016 2052.767259.0325 256.659 774.1905        131.909 67.3375 CTCAAATGCCCCTTTACTACCTATCTGTAGGACTTTCATACAATACTTAGGCAACTGCTTTCTGTTTTGCCAGCTGAGTCATAAGGAGCAGCTGAAACCAGGAGAGATTCGATGAAATATGAAACATGCTCATTAATATCAGCAGTTTGACTTGCTGACGGGAAGGTTTCCACAGGAATGATTAATGTCCTTTTATACCC  GATA1_TSS_2K\n",
    "[lf588@erisxdl1 enformerOPS]$ \n",
    "\n",
    "\n",
    "[lf588@erisxdl1 enformerOPS]$ cat 1_TRAIN_VAL_TEST_GATA1_SEQS.TXT \n",
    "ELEMENT_1_DNASE:GM12878_enformer.bw     ELEMENT_1_DNASE:K562_enformer.bw        ELEMENT_1_DNASE:HepG2_enformer.bw       ELEMENT_1_DNASE:H1esc_enformer.bw        ELEMENT_1_CAGE:K562_enformer.bw ELEMENT_1_CAGE:GM12878_enformer.bw      ELEMENT_1_CAGE:HepG2_enformer.bw ELEMENT_SEQ_ID  ELEMENT_TARGET_NAME     TSS_1_DNASE:GM12878_enformer.bw TSS_1_DNASE:K562_enformer.bw     TSS_1_DNASE:HepG2_enformer.bw   TSS_1_DNASE:H1esc_enformer.bw   TSS_1_CAGE:K562_enformer.bw     TSS_1_CAGE:GM12878_enformer.bw   TSS_1_CAGE:HepG2_enformer.bw    TSS_SEQ_ID      TSS_TARGET_NAME\n",
    "29.5    30.5    24.0    21.0    104.0   38.5    34.0    chr10_23016727_23016915_23016830        ENH_GATA1       188.34  2078.4565        264.879 241.8395        701.0945        100.5645        55.824  ACAGTTCAGGAGTTCCCGGAAATTCTCTCTTTTTAATCATTCATAAGATTGCATTTCCTGGAGGTGTATCAGATATTTTCTCCTTCATGCCAAATGACTCCTTGTTCTTACATCAGGCAGCACGCTCTGTGAGACACACTCCTGCCTCTGTTTTGTAGGTAACTCTGAATAGTCACTCTATTCAGTGACGAAGTATTGGA  GATA1_TSS_2K\n",
    "195.0   180.0   444.5   167.5   63.0    49.5    50.0    chr7_44972140_44972371_44972250 ENH_GATA1       182.8305        1859.193 260.5075        251.328 688.3345        100.951 56.6315 TGTGAAATTGTATACAGCAGGGTTTCTCTCCAAGTGCAGTTCATGCAGCTGCTTGTCCTCACTGCCTCTCAGCAACTAGAGGACACAGGCATCCTTTAGACAAATAAGCTCCCAGGATGTCCCCCTGTACACACACACAGGCAGGAGAACAAACAGACTTGCGCTTCCTTCCAGTATTGAACGAACAAACGTGGGGGAAG  GATA1_TSS_2K\n",
    "52.0    5014.5  64.5    30.0    883.0   225.5   189.0   chr4_68148920_68149140_68149030 ENH_GATA1       173.574 2144.7  247.0695 227.2485        840.634 95.2975 58.378  GACATACATTACATCATTTCTTATTTTTCAAGGAAGAACATGTTTTACAACTTGAGATTATCTGTTTAGTGACCTTGCAGCTGCACAGCTAGAGAAACAGAGTCTTCATAATGCCTTGGAAAGGGAGAGATAAGGCTCACTAGCCACAGAAAAACAGGCAGTTATTTTTTAAAGGACTTCGGCTCTTTCTCTTCCTCTGG  GATA1_TSS_2K\n",
    "205.0   1499.5  190.0   157.5   250.5   54.0    65.0    chr17_66573174_66573360_66573270        ENH_GATA1       181.7   1899.0495        255.012 240.0585        704.568 97.7275 56.6075 AAAGCAGCTCCTCTCTCAAGGTGAGTTCAGCAGTTGTCAGTGGATAAAAGGACCTTGTAATGAGCAGCTAAGCCCACACTCCTGAAATGCCTTTTCATTGCAAGAGTGAAAACGAGAGATAAAGGAGGTTTTTTCCTGAGTAATTCTAGCTTGCCTAGCACGCTATGAGCAACAGATAGAGGCCAACTTTAAAATCTCCA  GATA1_TSS_2K\n",
    "230.5   1788.5  250.5   192.0   656.5   22.0    29.0    chr10_80488300_80488500_80488390        ENH_GATA1       183.94251918.8555        254.7935        243.0185        713.0185        100.5815        55.941  AAAGGAAAGCAGCAAAGGTAGGCCAGGCCCTCAGAAAAGTCCCTCGGAAATAGCACCCTCCTGCAGTAGGATCTCTGAGGTTGCTTTGAGGGTTAGACACAGATAAAAAACAGTGGCCCCACCCTTCACTCTGTAGTTCACAGGGTCTTCCCACATAGGCTGTGTAATCCAAGCTTCATTACAGCCCTGGAGGACAAAGC  GATA1_TSS_2K\n",
    "211.5   99.5    138.5   93.0    27.0    22.0    21.0    chr2_60977306_60977487_60977390 ENH_GATA1       183.3905        1857.445 257.7135        249.701 678.173 101.9625        55.2105 GTAAAGTTGGACACTTTGGGGTATGTTATGTGTGTTCATAAGTGAGGTTAGGGGTTCAGCGATTAAAGATGAAACTGGAAAGTTCAGAAGGTTTTGATTGCCAAGCTAGGTCATGAACCCAAAGACTGAAACCATAACATGAGATGTGATTCATTTACGTATAGGCCAAGACTCGCGGCAGCACAAAGAAACATTTGATA  GATA1_TSS_2K\n",
    "588.5   166.5   197.5   168.5   36.0    76.5    20.5    chr13_43030680_43030820_43030750        ENH_GATA1       187.36951809.2705        258.6125        237.6995        675.5605        140.4005        50.997  GCATTTTTTCCTCAAGGGACTTGACCAGAAACTAAACCTAGACTCTCAGACTGGGAACTCCCCAGCAGTGGAGATCCTGCCTGATTCACTTTTGAGAATGACTTCTAGGGCCAAGCACAGCACGGGGTAGGTTGCAGATACTTAGTAAATGTCTTTTCAAGGGTAAGGGAATGAAAGACTAAGGCATAGGTGTCATAAGA  GATA1_TSS_2K\n",
    "369.5   186.5   186.5   181.5   41.5    42.0    19.5    chr11_133545179_133545380_133545270     ENH_GATA1       184.315 1835.4605        255.655 246.59  680.215 118.9005        55.354  TACAAGTAGAGGGGCCAGAAAGTGTGGTTTTGGTTCCTCCTCCAAAGCAGGCCAGTGGGCATTAGTAATGGTGGGGGAGGGAGGAGGTCCCTAGGGAGGATCTGCATAATGACACTGAGACCATTTACCAAGACACAAATGCAAACTGAAAGAGTAATATTCTTCAGTGACATATTCAAGCAGGAGAGAAAACTGTTTTA  GATA1_TSS_2K\n",
    "202.0   4808.0  215.0   106.5   315.0   25.0    17.5    chr1_160995340_160995508_160995430      ENH_GATA1       180.19851894.2505        253.329 232.9775        725.221 104.141 58.186  TATCCCCTCCCCTGTCCTTGATCTGTAGATCCTGTTAAGACAGGAAAAACAGTGTTGGTCAAAGGGTACACGCTTTCAGTTACAAGATGAACAAGTTCTGAATACGTAAGATAGAACATGGGAGGTGATGTGGCCGGGTGCAGTGACTCACGCCTGTAATCCCAGCACTTTGGGAGGCCGAGGTGGGCGGATCATGAGGT  GATA1_TSS_2K\n",
    "191.5   273.5   209.5   156.0   71.5    40.5    31.0    chr1_167620106_167620306_167620220      ENH_GATA1       183.34  1899.3625        256.8705        248.4985        685.4305        96.895  57.429  TAGATGGGATGGGGGGAGTATGAGTCAAGGCTGGAGGTAAGGAGAACAACTAGAAGATGCAGAGATTAACTAGGACACTGTTTTCATAATCCTGACGTTAAGAGGGCAGTGACAGTGATGGAGGGAGGGGGGATGATGTCAGGGAGCTTCAGAGCTAGAACGGCAGCACCTGATTGCTAAAGATGAAGGATAAATCGAGA  GATA1_TSS_2K\n",
    "328.5   1434.0  239.5   85.0    132.0   29.0    18.0    chr9_18890480_18890671_18890570 ENH_GATA1       179.391 1711.5235249.797 240.9735        679.475 118.2355        51.7565 CTCAAATGCCCCTTTACTACCTATCTGTAGGACTTTCATACAATACTTAGGCAACTGCTTTCTGTTTTGCCAGCTGAGTCATAAGGAGCAGCTGAAACCAGGAGAGATTCGATGAAATATGAAACATGCTCATTAATATCAGCAGTTTGACTTGCTGACGGGAAGGTTTCCACAGGAATGATTAATGTCCTTTTATACCC  GATA1_TSS_2K"
   ]
  },
  {
   "cell_type": "code",
   "execution_count": 24,
   "metadata": {},
   "outputs": [
    {
     "name": "stdout",
     "output_type": "stream",
     "text": [
      "positive_and_negative_controls_original_id_fix_4k_encode_intersection_gm_03/\n",
      "positive_and_negative_controls_original_id_fix_4k_encode_intersection_gm_03/generate_job_execute_n0.sh\n",
      "positive_and_negative_controls_original_id_fix_4k_encode_intersection_gm_03/paper0.sh\n",
      "positive_and_negative_controls_original_id_fix_4k_encode_intersection_gm_03/generate_job_execute_n1.sh\n",
      "positive_and_negative_controls_original_id_fix_4k_encode_intersection_gm_03/paper1.sh\n",
      "positive_and_negative_controls_original_id_fix_4k_encode_intersection_gm_03/generate_job_execute_n2.sh\n",
      "positive_and_negative_controls_original_id_fix_4k_encode_intersection_gm_03/paper2.sh\n",
      "positive_and_negative_controls_original_id_fix_4k_encode_intersection_gm_03/generate_job_execute_n3.sh\n",
      "positive_and_negative_controls_original_id_fix_4k_encode_intersection_gm_03/paper3.sh\n",
      "positive_and_negative_controls_original_id_fix_4k_encode_intersection_gm_03/generate_job_execute_n4.sh\n",
      "positive_and_negative_controls_original_id_fix_4k_encode_intersection_gm_03/paper4.sh\n",
      "positive_and_negative_controls_original_id_fix_4k_encode_intersection_gm_03/generate_job_execute_n5.sh\n",
      "positive_and_negative_controls_original_id_fix_4k_encode_intersection_gm_03/paper5.sh\n",
      "positive_and_negative_controls_original_id_fix_4k_encode_intersection_gm_03/generate_job_execute_n6.sh\n",
      "positive_and_negative_controls_original_id_fix_4k_encode_intersection_gm_03/paper6.sh\n",
      "positive_and_negative_controls_original_id_fix_4k_encode_intersection_gm_03/generate_job_execute_n7.sh\n",
      "positive_and_negative_controls_original_id_fix_4k_encode_intersection_gm_03/paper7.sh\n",
      "positive_and_negative_controls_original_id_fix_4k_encode_intersection_gm_03/generate_job_execute_n8.sh\n",
      "positive_and_negative_controls_original_id_fix_4k_encode_intersection_gm_03/paper8.sh\n",
      "positive_and_negative_controls_original_id_fix_4k_encode_intersection_gm_03/generate_job_execute_n9.sh\n",
      "positive_and_negative_controls_original_id_fix_4k_encode_intersection_gm_03/paper9.sh\n",
      "positive_and_negative_controls_original_id_fix_4k_encode_intersection_gm_03/generate_job_execute_n10.sh\n",
      "positive_and_negative_controls_original_id_fix_4k_encode_intersection_gm_03/paper10.sh\n",
      "positive_and_negative_controls_original_id_fix_4k_encode_intersection_gm_03/generate_job_execute_n11.sh\n",
      "positive_and_negative_controls_original_id_fix_4k_encode_intersection_gm_03/paper11.sh\n",
      "positive_and_negative_controls_original_id_fix_4k_encode_intersection_gm_03/log_papermill_job_n2.log\n",
      "positive_and_negative_controls_original_id_fix_4k_encode_intersection_gm_03/log_papermill_job_n1.log\n",
      "positive_and_negative_controls_original_id_fix_4k_encode_intersection_gm_03/log_papermill_job_n0.log\n",
      "positive_and_negative_controls_original_id_fix_4k_encode_intersection_gm_03/log_papermill_job_n3.log\n",
      "positive_and_negative_controls_original_id_fix_4k_encode_intersection_gm_03/log_papermill_job_n4.log\n",
      "positive_and_negative_controls_original_id_fix_4k_encode_intersection_gm_03/log_papermill_job_n5.log\n",
      "positive_and_negative_controls_original_id_fix_4k_encode_intersection_gm_03/log_papermill_job_n6.log\n",
      "positive_and_negative_controls_original_id_fix_4k_encode_intersection_gm_03/log_papermill_job_n7.log\n",
      "positive_and_negative_controls_original_id_fix_4k_encode_intersection_gm_03/log_papermill_job_n11.log\n",
      "positive_and_negative_controls_original_id_fix_4k_encode_intersection_gm_03/log_papermill_job_n10.log\n",
      "positive_and_negative_controls_original_id_fix_4k_encode_intersection_gm_03/log_papermill_job_n8.log\n",
      "positive_and_negative_controls_original_id_fix_4k_encode_intersection_gm_03/log_papermill_job_n9.log\n",
      "positive_and_negative_controls_original_id_fix_4k_encode_intersection_gm_03/9_out.ipynb\n",
      "positive_and_negative_controls_original_id_fix_4k_encode_intersection_gm_03/11_out.ipynb\n",
      "positive_and_negative_controls_original_id_fix_4k_encode_intersection_gm_03/8_out.ipynb\n",
      "positive_and_negative_controls_original_id_fix_4k_encode_intersection_gm_03/3_out.ipynb\n",
      "positive_and_negative_controls_original_id_fix_4k_encode_intersection_gm_03/10_out.ipynb\n",
      "positive_and_negative_controls_original_id_fix_4k_encode_intersection_gm_03/6_out.ipynb\n",
      "positive_and_negative_controls_original_id_fix_4k_encode_intersection_gm_03/0_out.ipynb\n",
      "positive_and_negative_controls_original_id_fix_4k_encode_intersection_gm_03/7_out.ipynb\n",
      "positive_and_negative_controls_original_id_fix_4k_encode_intersection_gm_03/2_out.ipynb\n",
      "positive_and_negative_controls_original_id_fix_4k_encode_intersection_gm_03/1_out.ipynb\n",
      "positive_and_negative_controls_original_id_fix_4k_encode_intersection_gm_03/5_out.ipynb\n",
      "positive_and_negative_controls_original_id_fix_4k_encode_intersection_gm_03/4_out.ipynb\n",
      "positive_and_negative_controls_original_id_fix_4k_encode_intersection_gm_03/11_GENERATED_SEQS.TXT\n",
      "positive_and_negative_controls_original_id_fix_4k_encode_intersection_gm_03/10_GENERATED_SEQS.TXT\n",
      "positive_and_negative_controls_original_id_fix_4k_encode_intersection_gm_03/8_GENERATED_SEQS.TXT\n",
      "positive_and_negative_controls_original_id_fix_4k_encode_intersection_gm_03/9_GENERATED_SEQS.TXT\n",
      "positive_and_negative_controls_original_id_fix_4k_encode_intersection_gm_03/4_GENERATED_SEQS.TXT\n",
      "positive_and_negative_controls_original_id_fix_4k_encode_intersection_gm_03/1_GENERATED_SEQS.TXT\n",
      "positive_and_negative_controls_original_id_fix_4k_encode_intersection_gm_03/2_GENERATED_SEQS.TXT\n",
      "positive_and_negative_controls_original_id_fix_4k_encode_intersection_gm_03/7_GENERATED_SEQS.TXT\n",
      "positive_and_negative_controls_original_id_fix_4k_encode_intersection_gm_03/3_GENERATED_SEQS.TXT\n",
      "positive_and_negative_controls_original_id_fix_4k_encode_intersection_gm_03/0_GENERATED_SEQS.TXT\n",
      "positive_and_negative_controls_original_id_fix_4k_encode_intersection_gm_03/6_GENERATED_SEQS.TXT\n",
      "positive_and_negative_controls_original_id_fix_4k_encode_intersection_gm_03/5_GENERATED_SEQS.TXT\n",
      "positive_and_negative_controls_original_id_fix_4k_encode_intersection_gm_03/11_TRAIN_VAL_TEST_GATA1_SEQS.TXT\n",
      "positive_and_negative_controls_original_id_fix_4k_encode_intersection_gm_03/10_TRAIN_VAL_TEST_GATA1_SEQS.TXT\n",
      "positive_and_negative_controls_original_id_fix_4k_encode_intersection_gm_03/8_TRAIN_VAL_TEST_GATA1_SEQS.TXT\n",
      "positive_and_negative_controls_original_id_fix_4k_encode_intersection_gm_03/9_TRAIN_VAL_TEST_GATA1_SEQS.TXT\n",
      "positive_and_negative_controls_original_id_fix_4k_encode_intersection_gm_03/4_TRAIN_VAL_TEST_GATA1_SEQS.TXT\n",
      "positive_and_negative_controls_original_id_fix_4k_encode_intersection_gm_03/1_TRAIN_VAL_TEST_GATA1_SEQS.TXT\n",
      "positive_and_negative_controls_original_id_fix_4k_encode_intersection_gm_03/2_TRAIN_VAL_TEST_GATA1_SEQS.TXT\n",
      "positive_and_negative_controls_original_id_fix_4k_encode_intersection_gm_03/7_TRAIN_VAL_TEST_GATA1_SEQS.TXT\n",
      "positive_and_negative_controls_original_id_fix_4k_encode_intersection_gm_03/3_TRAIN_VAL_TEST_GATA1_SEQS.TXT\n",
      "positive_and_negative_controls_original_id_fix_4k_encode_intersection_gm_03/0_TRAIN_VAL_TEST_GATA1_SEQS.TXT\n",
      "positive_and_negative_controls_original_id_fix_4k_encode_intersection_gm_03/6_TRAIN_VAL_TEST_GATA1_SEQS.TXT\n",
      "positive_and_negative_controls_original_id_fix_4k_encode_intersection_gm_03/5_TRAIN_VAL_TEST_GATA1_SEQS.TXT\n"
     ]
    }
   ],
   "source": [
    "#tar gz the following dir\n",
    "#/PHShome/lf588/enformerOPS/positive_and_negative_controls_original_4k_encode_intersection_gm\n",
    "!tar -czvf positive_negative_gm_original_paper_4k_encode_overlap_3.tar.gz  positive_and_negative_controls_original_id_fix_4k_encode_intersection_gm_03"
   ]
  },
  {
   "cell_type": "code",
   "execution_count": 1,
   "metadata": {},
   "outputs": [
    {
     "name": "stdout",
     "output_type": "stream",
     "text": [
      "axin2_25k_cells/\n",
      "axin2_25k_cells/generate_job_execute_n0.sh\n",
      "axin2_25k_cells/paper0.sh\n",
      "axin2_25k_cells/generate_job_execute_n1.sh\n",
      "axin2_25k_cells/paper1.sh\n",
      "axin2_25k_cells/generate_job_execute_n2.sh\n",
      "axin2_25k_cells/paper2.sh\n",
      "axin2_25k_cells/generate_job_execute_n3.sh\n",
      "axin2_25k_cells/paper3.sh\n",
      "axin2_25k_cells/generate_job_execute_n4.sh\n",
      "axin2_25k_cells/paper4.sh\n",
      "axin2_25k_cells/log_papermill_job_n0.log\n",
      "axin2_25k_cells/log_papermill_job_n1.log\n",
      "axin2_25k_cells/log_papermill_job_n2.log\n",
      "axin2_25k_cells/log_papermill_job_n3.log\n",
      "axin2_25k_cells/log_papermill_job_n4.log\n",
      "axin2_25k_cells/4_out.ipynb\n",
      "axin2_25k_cells/3_out.ipynb\n",
      "axin2_25k_cells/0_out.ipynb\n",
      "axin2_25k_cells/2_out.ipynb\n",
      "axin2_25k_cells/1_out.ipynb\n",
      "axin2_25k_cells/1_DNASE_RANDOM_SEQS.TXT\n",
      "axin2_25k_cells/3_DNASE_RANDOM_SEQS.TXT\n",
      "axin2_25k_cells/0_DNASE_RANDOM_SEQS.TXT\n",
      "axin2_25k_cells/2_DNASE_RANDOM_SEQS.TXT\n",
      "axin2_25k_cells/4_DNASE_RANDOM_SEQS.TXT\n",
      "axin2_25k_cells/1_PROMOTERS_SEQS.TXT\n",
      "axin2_25k_cells/0_PROMOTERS_SEQS.TXT\n",
      "axin2_25k_cells/4_PROMOTERS_SEQS.TXT\n",
      "axin2_25k_cells/1_GENERATED_SEQS.TXT\n",
      "axin2_25k_cells/0_GENERATED_SEQS.TXT\n",
      "axin2_25k_cells/4_GENERATED_SEQS.TXT\n",
      "axin2_25k_cells/1_TRAIN_VAL_TEST_GATA1_SEQS.TXT\n",
      "axin2_25k_cells/0_TRAIN_VAL_TEST_GATA1_SEQS.TXT\n",
      "axin2_25k_cells/4_TRAIN_VAL_TEST_GATA1_SEQS.TXT\n"
     ]
    }
   ],
   "source": [
    "!tar -czvf axin_intended_25k.tar.gz  axin2_25k_cells"
   ]
  },
  {
   "cell_type": "code",
   "execution_count": 3,
   "metadata": {},
   "outputs": [
    {
     "name": "stdout",
     "output_type": "stream",
     "text": [
      "  1933  46392 765750 axin2_25k_cells/4_GENERATED_SEQS.TXT\n"
     ]
    }
   ],
   "source": [
    "\n"
   ]
  },
  {
   "cell_type": "code",
   "execution_count": null,
   "metadata": {},
   "outputs": [],
   "source": []
  }
 ],
 "metadata": {
  "kernelspec": {
   "display_name": "Python 3",
   "language": "python",
   "name": "python3"
  },
  "language_info": {
   "codemirror_mode": {
    "name": "ipython",
    "version": 3
   },
   "file_extension": ".py",
   "mimetype": "text/x-python",
   "name": "python",
   "nbconvert_exporter": "python",
   "pygments_lexer": "ipython3",
   "version": "3.10.5"
  },
  "orig_nbformat": 4
 },
 "nbformat": 4,
 "nbformat_minor": 2
}
